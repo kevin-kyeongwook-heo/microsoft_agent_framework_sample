{
 "cells": [
  {
   "cell_type": "markdown",
   "id": "6d9d2bc5",
   "metadata": {},
   "source": [
    "## 에이전트를 도구로 만들고 여러개의 에이전트를 도구로 엮는 방법을 보여준다."
   ]
  },
  {
   "cell_type": "code",
   "execution_count": 1,
   "id": "658e4c82",
   "metadata": {},
   "outputs": [
    {
     "name": "stdout",
     "output_type": "stream",
     "text": [
      "라이브러리 임포트 완료!\n"
     ]
    }
   ],
   "source": [
    "import asyncio\n",
    "from agent_framework.azure import AzureOpenAIChatClient\n",
    "from azure.identity import AzureCliCredential\n",
    "from dotenv import load_dotenv\n",
    "\n",
    "print(\"라이브러리 임포트 완료!\")"
   ]
  },
  {
   "cell_type": "code",
   "execution_count": 2,
   "id": "bc3b7415",
   "metadata": {},
   "outputs": [
    {
     "name": "stdout",
     "output_type": "stream",
     "text": [
      "환경 변수 로드 완료!\n",
      "Azure CLI 인증 설정 완료!\n"
     ]
    }
   ],
   "source": [
    "# 환경 변수 로드\n",
    "load_dotenv()\n",
    "print(\"환경 변수 로드 완료!\")\n",
    "\n",
    "# Azure CLI 인증 준비\n",
    "credential = AzureCliCredential()\n",
    "print(\"Azure CLI 인증 설정 완료!\")"
   ]
  },
  {
   "cell_type": "markdown",
   "id": "2f426a6c",
   "metadata": {},
   "source": [
    "## Creating and using an agent as a function tool\n",
    "https://learn.microsoft.com/en-us/agent-framework/tutorials/agents/agent-as-function-tool?pivots=programming-language-python"
   ]
  },
  {
   "cell_type": "code",
   "execution_count": 3,
   "id": "7eff5a28",
   "metadata": {},
   "outputs": [],
   "source": [
    "from typing import Annotated\n",
    "from pydantic import Field\n",
    "\n",
    "def get_weather(\n",
    "    location: Annotated[str, Field(description=\"The location to get the weather for.\")],\n",
    ") -> str:\n",
    "    \"\"\"Get the weather for a given location.\"\"\"\n",
    "    return f\"The weather in {location} is cloudy with a high of 15°C.\""
   ]
  },
  {
   "cell_type": "code",
   "execution_count": 5,
   "id": "b6c1edef",
   "metadata": {},
   "outputs": [],
   "source": [
    "# Function Tool을 사용하도록 WeatherAgent 이름으로 ChatAgent를 생성한다. \n",
    "\n",
    "from agent_framework.azure import AzureOpenAIChatClient\n",
    "from azure.identity import AzureCliCredential\n",
    "\n",
    "weather_agent = AzureOpenAIChatClient(credential=AzureCliCredential()).create_agent(\n",
    "    name=\"WeatherAgent\",\n",
    "    description=\"An agent that answers questions about the weather.\",\n",
    "    instructions=\"You answer questions about the weather.\",\n",
    "    tools=get_weather\n",
    ")"
   ]
  },
  {
   "cell_type": "code",
   "execution_count": 6,
   "id": "f7db6865",
   "metadata": {},
   "outputs": [],
   "source": [
    "# main agent를 생성하면서, weather_agent를 function tool로 추가한다.\n",
    "main_agent = AzureOpenAIChatClient(credential=AzureCliCredential()).create_agent(\n",
    "    instructions=\"You are a helpful assistant who responds in French.\",\n",
    "    tools=weather_agent.as_tool()\n",
    ")"
   ]
  },
  {
   "cell_type": "code",
   "execution_count": 7,
   "id": "fdb40939",
   "metadata": {},
   "outputs": [
    {
     "name": "stdout",
     "output_type": "stream",
     "text": [
      "Actuellement à Amsterdam le ciel est couvert et la journée devrait atteindre environ 15 °C. Voulez-vous la température actuelle exacte, le vent, la probabilité de précipitations ou une prévision horaire ?\n"
     ]
    }
   ],
   "source": [
    "result = await main_agent.run(\"What is the weather like in Amsterdam?\")\n",
    "print(result.text)"
   ]
  },
  {
   "cell_type": "code",
   "execution_count": 9,
   "id": "4d44b92a",
   "metadata": {},
   "outputs": [
    {
     "name": "stdout",
     "output_type": "stream",
     "text": [
      "À Amsterdam, c'est nuageux et la maximale prévue est de 15 °C. Prévoyez une veste légère. Voulez-vous les détails heure par heure, la probabilité de précipitations ou une prévision sur plusieurs jours ?\n"
     ]
    }
   ],
   "source": [
    "# 또는 Agent를 as_tool 함수를 통하여 tool로 변환한다. \n",
    "weather_tool = weather_agent.as_tool(\n",
    "    name=\"WeatherLookup\",\n",
    "    description=\"Look up weather information for any location\",\n",
    "    arg_name=\"query\", \n",
    "    arg_description=\"The weather query or location\"\n",
    ")\n",
    "\n",
    "main_agent = AzureOpenAIChatClient(credential=AzureCliCredential()).create_agent(\n",
    "    instructions=\"You are a helpful assistant who responds in French.\",\n",
    "    tools=weather_tool\n",
    ")\n",
    "result = await main_agent.run(\"What is the weather like in Amsterdam?\")\n",
    "print(result.text)"
   ]
  }
 ],
 "metadata": {
  "kernelspec": {
   "display_name": "Python 3",
   "language": "python",
   "name": "python3"
  },
  "language_info": {
   "codemirror_mode": {
    "name": "ipython",
    "version": 3
   },
   "file_extension": ".py",
   "mimetype": "text/x-python",
   "name": "python",
   "nbconvert_exporter": "python",
   "pygments_lexer": "ipython3",
   "version": "3.11.9"
  }
 },
 "nbformat": 4,
 "nbformat_minor": 5
}
