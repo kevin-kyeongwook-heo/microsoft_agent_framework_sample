{
 "cells": [
  {
   "cell_type": "markdown",
   "id": "7c364bdc",
   "metadata": {},
   "source": [
    "# Microsoft Agent Framework - Jupyter Notebook 실행 가이드\n",
    "\n",
    "###### https://learn.microsoft.com/en-us/agent-framework/tutorials/agents/run-agent?pivots=programming-language-python\n",
    "\n",
    "터미널에서 \"az login\"을 통해 Azure 로그인이 완료된 상태여야합니다.\n"
   ]
  },
  {
   "cell_type": "markdown",
   "id": "30890192",
   "metadata": {},
   "source": [
    "## 1. 필수 라이브러리 설치\n",
    "\n",
    "먼저 필요한 패키지들을 설치합니다."
   ]
  },
  {
   "cell_type": "code",
   "execution_count": null,
   "id": "005aebdf",
   "metadata": {},
   "outputs": [],
   "source": [
    "# 필요한 패키지 설치 (한 번만 실행하면 됩니다)\n",
    "# !pip install agent-framework\n",
    "# !pip install azure-identity\n",
    "# !pip install python-dotenv"
   ]
  },
  {
   "cell_type": "markdown",
   "id": "e6431325",
   "metadata": {},
   "source": [
    "## 2. 필수 라이브러리 임포트"
   ]
  },
  {
   "cell_type": "code",
   "execution_count": 1,
   "id": "4872f557",
   "metadata": {},
   "outputs": [
    {
     "name": "stdout",
     "output_type": "stream",
     "text": [
      "라이브러리 임포트 완료!\n"
     ]
    }
   ],
   "source": [
    "import asyncio\n",
    "from agent_framework.azure import AzureOpenAIChatClient\n",
    "from azure.identity import AzureCliCredential\n",
    "from dotenv import load_dotenv\n",
    "\n",
    "print(\"라이브러리 임포트 완료!\")"
   ]
  },
  {
   "cell_type": "markdown",
   "id": "db95629b",
   "metadata": {},
   "source": [
    "## 3. 환경 설정 및 인증\n",
    "\n",
    "`.env` 파일을 로드하고 Azure 인증을 설정합니다."
   ]
  },
  {
   "cell_type": "code",
   "execution_count": 2,
   "id": "d66b8aa2",
   "metadata": {},
   "outputs": [
    {
     "name": "stdout",
     "output_type": "stream",
     "text": [
      "환경 변수 로드 완료!\n",
      "Azure CLI 인증 설정 완료!\n"
     ]
    }
   ],
   "source": [
    "# 환경 변수 로드\n",
    "load_dotenv()\n",
    "print(\"환경 변수 로드 완료!\")\n",
    "\n",
    "# Azure CLI 인증 준비\n",
    "credential = AzureCliCredential()\n",
    "print(\"Azure CLI 인증 설정 완료!\")"
   ]
  },
  {
   "cell_type": "markdown",
   "id": "4cab22c9",
   "metadata": {},
   "source": [
    "## 4. Azure OpenAI 채팅 클라이언트 및 에이전트 생성"
   ]
  },
  {
   "cell_type": "code",
   "execution_count": 3,
   "id": "25945dd5",
   "metadata": {},
   "outputs": [
    {
     "name": "stdout",
     "output_type": "stream",
     "text": [
      "농담을 잘하는 'Joker' 에이전트가 생성되었습니다!\n"
     ]
    }
   ],
   "source": [
    "# Azure OpenAI 채팅 클라이언트 생성 및 에이전트 만들기\n",
    "agent = AzureOpenAIChatClient(credential=credential).create_agent(\n",
    "    instructions=\"You are good at telling jokes.\",\n",
    "    name=\"Joker\"\n",
    ")\n",
    "\n",
    "print(\"농담을 잘하는 'Joker' 에이전트가 생성되었습니다!\")"
   ]
  },
  {
   "cell_type": "markdown",
   "id": "7cf567ad",
   "metadata": {},
   "source": [
    "## 5. 에이전트 실행 (Jupyter 노트북 버전)\n",
    "\n",
    "⚠️ **중요**: Jupyter 노트북에서는 `asyncio.run()`을 사용하지 않고 직접 `await`를 사용합니다."
   ]
  },
  {
   "cell_type": "code",
   "execution_count": 6,
   "id": "cc21b683",
   "metadata": {},
   "outputs": [
    {
     "name": "stdout",
     "output_type": "stream",
     "text": [
      "🏴‍☠️ 해적 농담:\n",
      "해적이 바다에 나갔다가 왜 항상 길을 잃을까요?  \n",
      "왜냐하면 그는 \"R\"을 너무 좋아해서 길 찾는 대신 \"Arrr!\"만 외치거든요! 🏴‍☠️😄\n"
     ]
    }
   ],
   "source": [
    "# Jupyter 노트북에서는 이렇게 실행합니다 (asyncio.run() 없이)\n",
    "result = await agent.run(\"Tell me a joke about a pirate. 한국말로 해줘\")\n",
    "print(\"🏴‍☠️ 해적 농담:\")\n",
    "print(result.text)"
   ]
  },
  {
   "cell_type": "markdown",
   "id": "b895d554",
   "metadata": {},
   "source": [
    "## 6. 추가 테스트\n",
    "\n",
    "다른 주제로도 농담을 요청해 보세요!"
   ]
  },
  {
   "cell_type": "code",
   "execution_count": 7,
   "id": "be4bd13f",
   "metadata": {},
   "outputs": [
    {
     "name": "stdout",
     "output_type": "stream",
     "text": [
      "\n",
      "🎭 로봇 농담:\n",
      "왜 로봇은 항상 좋은 친구일까요?  \n",
      "왜냐하면 감정 칩이 있어서 감정을 잘 알아차리거든요! 🤖❤️\n",
      "--------------------------------------------------\n",
      "\n",
      "🎭 프로그래머 농담:\n",
      "물론이죠! \n",
      "\n",
      "프로그래머가 커피를 너무 많이 마신 이유는 뭘까요?  \n",
      "“코드가 잘 안 돌아가서 디버깅(debugging) 대신 디카페인(decaf-feining) 했대요!” ☕😂\n",
      "--------------------------------------------------\n",
      "\n",
      "🎭 고양이 농담:\n",
      "Sure! Here's a joke about 고양이 (cats):\n",
      "\n",
      "고양이가 컴퓨터 앞에 앉아 있었어요.  \n",
      "사람이 물었죠, \"뭐 해?\"  \n",
      "고양이가 대답했어요, \"마우스 잡고 있어!\" 😸\n",
      "\n",
      "(Translation:  \n",
      "A cat was sitting in front of a computer.  \n",
      "Someone asked, \"What are you doing?\"  \n",
      "The cat replied, \"I'm catching the mouse!\")\n",
      "--------------------------------------------------\n",
      "\n",
      "🎭 AI 농담:\n",
      "Why did the AI go to art school?\n",
      "\n",
      "Because it wanted to learn how to draw its own conclusions!\n",
      "--------------------------------------------------\n"
     ]
    }
   ],
   "source": [
    "# 다른 주제로 농담 요청해보기\n",
    "topics = [\"로봇\", \"프로그래머\", \"고양이\", \"AI\"]\n",
    "\n",
    "for topic in topics:\n",
    "    print(f\"\\n🎭 {topic} 농담:\")\n",
    "    result = await agent.run(f\"Tell me a joke about {topic}.\")\n",
    "    print(result.text)\n",
    "    print(\"-\" * 50)"
   ]
  },
  {
   "cell_type": "markdown",
   "id": "c1b70577",
   "metadata": {},
   "source": [
    "## 🔄 Python 스크립트 vs Jupyter 노트북 차이점\n",
    "\n",
    "### Python 스크립트 (.py)\n",
    "```python\n",
    "# Python 스크립트에서는 이렇게 실행\n",
    "async def main():\n",
    "    result = await agent.run(\"Tell me a joke about a pirate.\")\n",
    "    print(result.text)\n",
    "\n",
    "asyncio.run(main())  # 스크립트에서는 asyncio.run() 필요\n",
    "```\n",
    "\n",
    "### Jupyter 노트북 (.ipynb)\n",
    "```python\n",
    "# Jupyter에서는 이렇게 실행 (더 간단!)\n",
    "result = await agent.run(\"Tell me a joke about a pirate.\")  # 직접 await 사용\n",
    "print(result.text)\n",
    "```\n",
    "\n",
    "### 장점\n",
    "- ✅ **셀 단위 실행**: 코드를 부분별로 실행하고 테스트 가능\n",
    "- ✅ **비동기 코드 간편화**: `asyncio.run()` 없이 직접 `await` 사용\n",
    "- ✅ **결과 확인**: 각 단계별로 결과를 확인하며 진행\n",
    "- ✅ **패키지 설치**: 노트북에서 직접 `!pip install` 가능"
   ]
  }
 ],
 "metadata": {
  "kernelspec": {
   "display_name": "Python 3",
   "language": "python",
   "name": "python3"
  },
  "language_info": {
   "codemirror_mode": {
    "name": "ipython",
    "version": 3
   },
   "file_extension": ".py",
   "mimetype": "text/x-python",
   "name": "python",
   "nbconvert_exporter": "python",
   "pygments_lexer": "ipython3",
   "version": "3.11.9"
  }
 },
 "nbformat": 4,
 "nbformat_minor": 5
}
