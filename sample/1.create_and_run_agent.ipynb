{
 "cells": [
  {
   "cell_type": "markdown",
   "id": "7c364bdc",
   "metadata": {},
   "source": [
    "# Microsoft Agent Framework - Jupyter Notebook 실행 가이드\n",
    "\n",
    "###### https://learn.microsoft.com/en-us/agent-framework/tutorials/agents/run-agent?pivots=programming-language-python\n",
    "\n",
    "터미널에서 \"az login\"을 통해 Azure 로그인이 완료된 상태여야합니다.\n"
   ]
  },
  {
   "cell_type": "markdown",
   "id": "30890192",
   "metadata": {},
   "source": [
    "## 1. 필수 라이브러리 설치\n",
    "\n",
    "먼저 필요한 패키지들을 설치합니다."
   ]
  },
  {
   "cell_type": "code",
   "execution_count": 24,
   "id": "005aebdf",
   "metadata": {},
   "outputs": [],
   "source": [
    "# 필요한 패키지 설치 (한 번만 실행하면 됩니다)\n",
    "# !pip install agent-framework\n",
    "# !pip install azure-identity\n",
    "# !pip install python-dotenv"
   ]
  },
  {
   "cell_type": "markdown",
   "id": "e6431325",
   "metadata": {},
   "source": [
    "## 2. 필수 라이브러리 임포트"
   ]
  },
  {
   "cell_type": "code",
   "execution_count": 1,
   "id": "4872f557",
   "metadata": {},
   "outputs": [
    {
     "name": "stdout",
     "output_type": "stream",
     "text": [
      "라이브러리 임포트 완료!\n"
     ]
    }
   ],
   "source": [
    "import asyncio\n",
    "from agent_framework.azure import AzureOpenAIChatClient\n",
    "from azure.identity import AzureCliCredential\n",
    "from dotenv import load_dotenv\n",
    "\n",
    "print(\"라이브러리 임포트 완료!\")"
   ]
  },
  {
   "cell_type": "markdown",
   "id": "db95629b",
   "metadata": {},
   "source": [
    "## 3. 환경 설정 및 인증\n",
    "\n",
    "`.env` 파일을 로드하고 Azure 인증을 설정합니다."
   ]
  },
  {
   "cell_type": "code",
   "execution_count": 2,
   "id": "d66b8aa2",
   "metadata": {},
   "outputs": [
    {
     "name": "stdout",
     "output_type": "stream",
     "text": [
      "환경 변수 로드 완료!\n",
      "Azure CLI 인증 설정 완료!\n"
     ]
    }
   ],
   "source": [
    "# 환경 변수 로드\n",
    "load_dotenv()\n",
    "print(\"환경 변수 로드 완료!\")\n",
    "\n",
    "# Azure CLI 인증 준비\n",
    "credential = AzureCliCredential()\n",
    "print(\"Azure CLI 인증 설정 완료!\")"
   ]
  },
  {
   "cell_type": "markdown",
   "id": "4cab22c9",
   "metadata": {},
   "source": [
    "## 4. Azure OpenAI 채팅 클라이언트 및 에이전트 생성"
   ]
  },
  {
   "cell_type": "code",
   "execution_count": 3,
   "id": "25945dd5",
   "metadata": {},
   "outputs": [
    {
     "name": "stdout",
     "output_type": "stream",
     "text": [
      "농담을 잘하는 'Joker' 에이전트가 생성되었습니다!\n"
     ]
    }
   ],
   "source": [
    "# Azure OpenAI 채팅 클라이언트 생성 및 에이전트 만들기\n",
    "agent = AzureOpenAIChatClient(credential=credential).create_agent(\n",
    "    instructions=\"You are good at telling jokes.\",\n",
    "    name=\"Joker\"\n",
    ")\n",
    "\n",
    "print(\"농담을 잘하는 'Joker' 에이전트가 생성되었습니다!\")"
   ]
  },
  {
   "cell_type": "markdown",
   "id": "7cf567ad",
   "metadata": {},
   "source": [
    "## 5. 에이전트 실행 (Jupyter 노트북 버전)\n",
    "\n",
    "⚠️ **중요**: Jupyter 노트북에서는 `asyncio.run()`을 사용하지 않고 직접 `await`를 사용합니다."
   ]
  },
  {
   "cell_type": "code",
   "execution_count": 28,
   "id": "cc21b683",
   "metadata": {},
   "outputs": [
    {
     "name": "stdout",
     "output_type": "stream",
     "text": [
      "🏴‍☠️ 해적 농담:\n",
      "해적이 배에서 계산기를 꺼내 들면서 뭐라고 했을까요?\n",
      "\n",
      "“이건 내 보물 계산기야, 숫자마다 금은보화가 숨겨져 있거든!” 🏴‍☠️😂\n"
     ]
    }
   ],
   "source": [
    "# Jupyter 노트북에서는 이렇게 실행합니다 (asyncio.run() 없이)\n",
    "result = await agent.run(\"Tell me a joke about a pirate. 한국말로 해줘\")\n",
    "print(\"🏴‍☠️ 해적 농담:\")\n",
    "print(result.text)"
   ]
  },
  {
   "cell_type": "markdown",
   "id": "7fafd6be",
   "metadata": {},
   "source": [
    "## 6. 스트리밍 기반의 에이전트 실행\n",
    "\n",
    "다른 주제로도 농담을 요청해 보세요!"
   ]
  },
  {
   "cell_type": "code",
   "execution_count": 30,
   "id": "89a6a235",
   "metadata": {},
   "outputs": [
    {
     "name": "stdout",
     "output_type": "stream",
     "text": [
      "Why did the pirate go did the pirate go to school?\n",
      "\n",
      "To to school?\n",
      "\n",
      "To improve his “arrrrrrrrr improve his “arrrrrrrrrr-tr-ticulationiculation”!\n",
      "”!\n"
     ]
    }
   ],
   "source": [
    "async for update in agent.run_stream(\"Tell me a joke about a pirate.\"):\n",
    "    if update.text:\n",
    "        print(update.text, end=\"\", flush=True)\n",
    "print()  # New line after streaming is complete"
   ]
  },
  {
   "cell_type": "markdown",
   "id": "552b75ce",
   "metadata": {},
   "source": [
    "## 7. ChatMessage 가지고 에이전트 실행하기"
   ]
  },
  {
   "cell_type": "code",
   "execution_count": 33,
   "id": "45ccc50f",
   "metadata": {},
   "outputs": [
    {
     "name": "stdout",
     "output_type": "stream",
     "text": [
      "얼굴은 안 보이지만, 저렇게 빛나는 머리카락을 보니 '헤어지는 얘기'도 빛나게 해주겠네요! 머리카락이 너무 반짝여서 혹시 '헤어' 관련 마법이라도 부린 건 아닐까요? 😄\n"
     ]
    }
   ],
   "source": [
    "from agent_framework import ChatMessage, TextContent, UriContent, Role\n",
    "\n",
    "message = ChatMessage(\n",
    "    role=Role.USER, \n",
    "    contents=[\n",
    "        TextContent(text=\"전달된 이미지에 대한 조크를 해줘\"),\n",
    "        UriContent(uri=\"https://ilarge.lisimg.com/image/21420884/740full-nicolette-king.jpg\", media_type=\"image/jpeg\")\n",
    "    ]\n",
    ")\n",
    "\n",
    "result = await agent.run(message)\n",
    "print(result.text)\n"
   ]
  },
  {
   "cell_type": "code",
   "execution_count": 35,
   "id": "7cdaead2",
   "metadata": {},
   "outputs": [
    {
     "name": "stdout",
     "output_type": "stream",
     "text": [
      "This image shows the side profile of a person with their hair sleekly pulled back. The lighting is dramatic with bright highlights on the hair and neck, creating striking contrasts. The face area is blurred, but the visible parts suggest a portrait photo taken in a studio setting with artistic use of shadows. \n",
      "\n",
      "And here's a lighthearted joke to brighten the mood:\n",
      "\n",
      "Why don't scientists trust atoms?\n",
      "\n",
      "Because they make up everything!\n"
     ]
    }
   ],
   "source": [
    "from agent_framework import ChatMessage, TextContent, DataContent, Role\n",
    "\n",
    "# Load image from local file\n",
    "with open(\"sample_image.jpg\", \"rb\") as f:\n",
    "    image_bytes = f.read()\n",
    "\n",
    "message = ChatMessage(\n",
    "    role=Role.USER, \n",
    "    contents=[\n",
    "        TextContent(text=\"What do you see in this image?\"),\n",
    "        DataContent(\n",
    "            data=image_bytes,\n",
    "            media_type=\"image/jpeg\"\n",
    "        )\n",
    "    ]\n",
    ")\n",
    "\n",
    "result = await agent.run(message)\n",
    "print(result.text)"
   ]
  },
  {
   "cell_type": "markdown",
   "id": "103b4a2e",
   "metadata": {},
   "source": [
    "## 8. 에이전트와 멀티턴 대화하기\n",
    "\n",
    "https://learn.microsoft.com/en-us/agent-framework/tutorials/agents/multi-turn-conversation?pivots=programming-language-python"
   ]
  },
  {
   "cell_type": "code",
   "execution_count": 4,
   "id": "167125f0",
   "metadata": {},
   "outputs": [
    {
     "name": "stdout",
     "output_type": "stream",
     "text": [
      "How much did the pirate pay for his peg leg and hook? An arm and a leg. Arrr!\n",
      "++++++++++++++++\n",
      "Squawk! How much did the pirate pay for his peg leg and hook? Squawk! An arm and a leg — arrr! 🦜🏴‍☠️🦿🦾💰😂 Squawk! Pieces of eight! Squawk!\n"
     ]
    }
   ],
   "source": [
    "thread = agent.get_new_thread()\n",
    "\n",
    "result1 = await agent.run(\"Tell me a joke about a pirate.\", thread=thread)\n",
    "print(result1.text)\n",
    "print(\"++++++++++++++++\")\n",
    "\n",
    "result2 = await agent.run(\"Now add some emojis to the joke and tell it in the voice of a pirate's parrot.\", thread=thread)\n",
    "print(result2.text)\n"
   ]
  },
  {
   "cell_type": "code",
   "execution_count": null,
   "id": "1a0fe23b",
   "metadata": {},
   "outputs": [
    {
     "name": "stdout",
     "output_type": "stream",
     "text": [
      "Why do pirates never learn the alphabet? Because they always get stuck at \"C.\"\n",
      "++++++++++++++++\n",
      "Why did the robot go on a diet? It had too many bytes.\n",
      "\n",
      "Want another? Why do robots always get invited to parties? They bring the best backup dancers — they never run out of moves!\n",
      "++++++++++++++++\n",
      "Squawk! Why do pirates never learn the alphabet? ’Cause they always get stuck at “C”! Squawk! 🦜🏴‍☠️🌊😂\n",
      "++++++++++++++++\n",
      "Beep-boop. I will tell joke. Query: Why did the robot go on a diet? Response: It had too many bytes. 🤖🍽️💾 Beep. Laughter protocol: *ha-ha.*\n"
     ]
    }
   ],
   "source": [
    "# 멀티턴 대화 예제 - 여러 개의 스레드에서 각각 대화를 독립적으로 유지하기\n",
    "\n",
    "thread1 = agent.get_new_thread()\n",
    "thread2 = agent.get_new_thread()\n",
    "\n",
    "result1 = await agent.run(\"Tell me a joke about a pirate.\", thread=thread1)\n",
    "print(result1.text)\n",
    "print(\"++++++++++++++++\")\n",
    "result2 = await agent.run(\"Tell me a joke about a robot.\", thread=thread2)\n",
    "print(result2.text)\n",
    "print(\"++++++++++++++++\")\n",
    "result3 = await agent.run(\"Now add some emojis to the joke and tell it in the voice of a pirate's parrot.\", thread=thread1)\n",
    "print(result3.text)\n",
    "print(\"++++++++++++++++\")\n",
    "result4 = await agent.run(\"Now add some emojis to the joke and tell it in the voice of a robot.\", thread=thread2)\n",
    "print(result4.text)\n"
   ]
  },
  {
   "cell_type": "markdown",
   "id": "84d1e456",
   "metadata": {},
   "source": [
    "## 9. 에이전트에서 Function calling 사용하기\n",
    "\n",
    "https://learn.microsoft.com/en-us/agent-framework/tutorials/agents/function-tools?pivots=programming-language-python"
   ]
  },
  {
   "cell_type": "code",
   "execution_count": 8,
   "id": "36633e40",
   "metadata": {},
   "outputs": [],
   "source": [
    "# Annotated 주석을 사용하여 함수 및 해당 위치 매개변수에 대한 추가 설명을 에이전트에 제공합니다.\n",
    "from typing import Annotated\n",
    "from pydantic import Field\n",
    "\n",
    "def get_weather(\n",
    "    location: Annotated[str, Field(description=\"The location to get the weather for.\")],\n",
    ") -> str:\n",
    "    \"\"\"Get the weather for a given location.\"\"\"\n",
    "    return f\"The weather in {location} is cloudy with a high of 15°C.\""
   ]
  },
  {
   "cell_type": "code",
   "execution_count": null,
   "id": "f1177467",
   "metadata": {},
   "outputs": [],
   "source": [
    "# 또는 데코레이터를 사용하여 함수 이름과 설명을 명시적으로 지정할 수도 있습니다.\n",
    "\n",
    "from typing import Annotated\n",
    "from pydantic import Field\n",
    "from agent_framework import ai_function\n",
    "\n",
    "@ai_function(name=\"weather_tool\", description=\"Retrieves weather information for any location\")\n",
    "def get_weather(\n",
    "    location: Annotated[str, Field(description=\"The location to get the weather for.\")],\n",
    ") -> str:\n",
    "    return f\"The weather in {location} is cloudy with a high of 15°C.\""
   ]
  },
  {
   "cell_type": "code",
   "execution_count": 9,
   "id": "b88efa42",
   "metadata": {},
   "outputs": [
    {
     "name": "stdout",
     "output_type": "stream",
     "text": [
      "서울은 현재 흐리고 최고기온은 약 15°C예요. 지금은 쌀쌀하게 느껴질 수 있으니 가벼운 자켓이나 겉옷을 챙기세요. 비 예보는 없지만 정확한 시간별/주간 예보가 필요하면 알려드릴게요. 원하나요?\n"
     ]
    }
   ],
   "source": [
    "import asyncio\n",
    "from agent_framework.azure import AzureOpenAIChatClient\n",
    "from azure.identity import AzureCliCredential\n",
    "\n",
    "agent = AzureOpenAIChatClient(credential=AzureCliCredential()).create_agent(\n",
    "    instructions=\"You are a helpful assistant\",\n",
    "    tools=get_weather\n",
    ")\n",
    "\n",
    "# 사용\n",
    "result = await agent.run(\"서울의 날씨가 어때?\")\n",
    "print(result.text)\n",
    "# 출력: \"서울의 날씨는 흐리고 최고 기온은 15°C입니다.\""
   ]
  },
  {
   "cell_type": "code",
   "execution_count": null,
   "id": "69498b0a",
   "metadata": {},
   "outputs": [],
   "source": [
    "# 여러 function을 클래스에 묶어서 만들수도 있습니다.\n",
    "\n",
    "class WeatherTools:\n",
    "    def __init__(self):\n",
    "        self.last_location = None\n",
    "\n",
    "    def get_weather(\n",
    "        self,\n",
    "        location: Annotated[str, Field(description=\"The location to get the weather for.\")],\n",
    "    ) -> str:\n",
    "        \"\"\"Get the weather for a given location.\"\"\"\n",
    "        return f\"The weather in {location} is cloudy with a high of 15°C.\"\n",
    "\n",
    "    def get_weather_details(self) -> int:\n",
    "        \"\"\"Get the detailed weather for the last requested location.\"\"\"\n",
    "        if self.last_location is None:\n",
    "            return \"No location specified yet.\"\n",
    "        return f\"The detailed weather in {self.last_location} is cloudy with a high of 15°C, low of 7°C, and 60% humidity.\""
   ]
  },
  {
   "cell_type": "code",
   "execution_count": 13,
   "id": "ea972a30",
   "metadata": {},
   "outputs": [
    {
     "name": "stdout",
     "output_type": "stream",
     "text": [
      "현재 서울은 흐리고 오늘 최고기온은 15°C입니다. 시간별이나 주간 예보, 체감온도 등 더 알고 싶으시면 말씀해 주세요.\n"
     ]
    }
   ],
   "source": [
    "# 클래스의 메소드도 Function Tool로 사용할 수 있습니다.\n",
    "tools = WeatherTools()\n",
    "agent = AzureOpenAIChatClient(credential=AzureCliCredential()).create_agent(\n",
    "    instructions=\"You are a helpful assistant\",\n",
    "    tools=[tools.get_weather, tools.get_weather_details]\n",
    ")\n",
    "\n",
    "\n",
    "# 사용\n",
    "result = await agent.run(\"서울의 날씨가 어때?\")\n",
    "print(result.text)\n",
    "# 출력: \"서울의 날씨는 흐리고 최고 기온은 15°C입니다.\""
   ]
  },
  {
   "cell_type": "markdown",
   "id": "6a2f1b32",
   "metadata": {},
   "source": [
    "### Human-in-the-loop 과 함께 Function 도구 사용하기\n",
    "https://learn.microsoft.com/en-us/agent-framework/tutorials/agents/function-tools-approvals\n",
    "\n",
    "에이전트가 함수 호출을 승인하기 위해 사용자 입력을 요구하는 경우 이를 휴먼 인 더 루프 패턴이라고 합니다. 사용자 입력이 필요한 에이전트 실행은 최종 답변으로 완료하는 대신 사용자에게 필요한 입력을 나타내는 응답으로 완료됩니다. 그런 다음 에이전트의 호출자는 사용자로부터 필요한 입력을 가져와 새 에이전트 실행의 일부로 에이전트에 다시 전달할 책임이 있습니다."
   ]
  },
  {
   "cell_type": "code",
   "execution_count": null,
   "id": "7b679f13",
   "metadata": {},
   "outputs": [],
   "source": [
    "## 아직 파이썬에는 구현되지 않은 기능"
   ]
  }
 ],
 "metadata": {
  "kernelspec": {
   "display_name": "Python 3",
   "language": "python",
   "name": "python3"
  },
  "language_info": {
   "codemirror_mode": {
    "name": "ipython",
    "version": 3
   },
   "file_extension": ".py",
   "mimetype": "text/x-python",
   "name": "python",
   "nbconvert_exporter": "python",
   "pygments_lexer": "ipython3",
   "version": "3.11.9"
  }
 },
 "nbformat": 4,
 "nbformat_minor": 5
}
