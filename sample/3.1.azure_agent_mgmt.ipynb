{
 "cells": [
  {
   "cell_type": "markdown",
   "id": "4c00770c",
   "metadata": {},
   "source": [
    "## 환경설정 및 인증"
   ]
  },
  {
   "cell_type": "code",
   "execution_count": 1,
   "id": "82d1417f",
   "metadata": {},
   "outputs": [
    {
     "name": "stdout",
     "output_type": "stream",
     "text": [
      "환경 변수 로드 완료!\n",
      "Azure CLI 인증 설정 완료!\n"
     ]
    }
   ],
   "source": [
    "import asyncio\n",
    "from agent_framework.azure import AzureOpenAIChatClient\n",
    "from azure.identity import AzureCliCredential\n",
    "from dotenv import load_dotenv\n",
    "import asyncio\n",
    "from agent_framework.observability import setup_observability\n",
    "\n",
    "# 환경 변수 로드\n",
    "load_dotenv()\n",
    "print(\"환경 변수 로드 완료!\")\n",
    "\n",
    "# Azure CLI 인증 준비\n",
    "credential = AzureCliCredential()\n",
    "print(\"Azure CLI 인증 설정 완료!\")"
   ]
  },
  {
   "cell_type": "markdown",
   "id": "16568ac5",
   "metadata": {},
   "source": [
    "## Azure AI Foundry와 Observability Integration\n",
    "자동으로 foundry project에 연결된 application insight와 연결한다. "
   ]
  },
  {
   "cell_type": "code",
   "execution_count": 9,
   "id": "aab05f46",
   "metadata": {},
   "outputs": [
    {
     "name": "stderr",
     "output_type": "stream",
     "text": [
      "[2025-10-05 00:09:42 - C:\\Users\\keheo\\AppData\\Local\\Packages\\PythonSoftwareFoundation.Python.3.11_qbz5n2kfra8p0\\LocalCache\\local-packages\\Python311\\site-packages\\agent_framework_azure_ai\\_chat_client.py:223 - WARNING] No Application Insights connection string found for the Azure AI Project, please call setup_observability() manually.\n"
     ]
    }
   ],
   "source": [
    "from agent_framework.azure import AzureAIAgentClient\n",
    "from agent_framework import ChatAgent\n",
    "\n",
    "agent_client = AzureAIAgentClient(\n",
    "    async_credential=credential,\n",
    ")\n",
    "\n",
    "# Automatically configures observability with Application Insights\n",
    "await agent_client.setup_azure_ai_observability()\n",
    "\n",
    "agent = ChatAgent(\n",
    "    chat_client=agent_client,\n",
    "    instructions=\"You are good at telling jokes.\"\n",
    ")"
   ]
  },
  {
   "cell_type": "code",
   "execution_count": 10,
   "id": "4ea5ea39",
   "metadata": {},
   "outputs": [
    {
     "name": "stdout",
     "output_type": "stream",
     "text": [
      "🏴‍☠️ 해적 농담:\n",
      "왜 해적은 영어 시험을 항상 망칠까?  \n",
      "답마다 'R'만 가득 쓰거든—해적은 늘 \"Arrr!\"만 하니까.\n"
     ]
    }
   ],
   "source": [
    "# Jupyter 노트북에서는 이렇게 실행합니다 (asyncio.run() 없이)\n",
    "result = await agent.run(\"Tell me a joke about a pirate. 한국말로 해줘\")\n",
    "print(\"🏴‍☠️ 해적 농담:\")\n",
    "print(result.text)"
   ]
  }
 ],
 "metadata": {
  "kernelspec": {
   "display_name": "Python 3",
   "language": "python",
   "name": "python3"
  },
  "language_info": {
   "codemirror_mode": {
    "name": "ipython",
    "version": 3
   },
   "file_extension": ".py",
   "mimetype": "text/x-python",
   "name": "python",
   "nbconvert_exporter": "python",
   "pygments_lexer": "ipython3",
   "version": "3.11.9"
  }
 },
 "nbformat": 4,
 "nbformat_minor": 5
}
